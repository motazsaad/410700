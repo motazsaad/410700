{
  "nbformat": 4,
  "nbformat_minor": 0,
  "metadata": {
    "colab": {
      "name": "ch4_functions.ipynb",
      "provenance": [],
      "collapsed_sections": []
    },
    "kernelspec": {
      "name": "python3",
      "display_name": "Python 3"
    }
  },
  "cells": [
    {
      "cell_type": "markdown",
      "metadata": {
        "id": "wjgtqU1rsv1o"
      },
      "source": [
        "# Chapter 4: Functions \n",
        "\n",
        "* reuse code \n",
        "* simplify code \n",
        "* naming convention should be verb phrase "
      ]
    },
    {
      "cell_type": "code",
      "metadata": {
        "id": "T419Hb08ssRf"
      },
      "source": [
        "# Variable names (must be verb phrase)\n",
        "def func1():\n",
        "  pass # empty statement \n",
        "\n",
        "max_car_speed = 100 # good variable name \n",
        "x = 100 # bad variable name \n",
        "\n",
        "def f1(): # bad function name \n",
        "  pass \n",
        "\n",
        "def car(): # bad function name \n",
        "  pass \n",
        "\n",
        "def get_car_speed(): # good function name \n",
        "  pass \n",
        "\n",
        "def speedup(): # good function name \n",
        "  pass \n",
        "\n",
        "def stop(): # good function name \n",
        "  pass "
      ],
      "execution_count": 2,
      "outputs": []
    },
    {
      "cell_type": "markdown",
      "metadata": {
        "id": "KNMV-4yTyHX9"
      },
      "source": [
        "# some built-in functions "
      ]
    },
    {
      "cell_type": "code",
      "metadata": {
        "id": "hYPgoONOv3H9",
        "outputId": "289d12f6-864d-49ed-dc1e-d48efb3116b2",
        "colab": {
          "base_uri": "https://localhost:8080/",
          "height": 34
        }
      },
      "source": [
        "max(2, 3)"
      ],
      "execution_count": 3,
      "outputs": [
        {
          "output_type": "execute_result",
          "data": {
            "text/plain": [
              "3"
            ]
          },
          "metadata": {
            "tags": []
          },
          "execution_count": 3
        }
      ]
    },
    {
      "cell_type": "code",
      "metadata": {
        "id": "sQrs9zmSv9Z5",
        "outputId": "eff9d819-2119-4ad0-f833-055771f9f6bd",
        "colab": {
          "base_uri": "https://localhost:8080/",
          "height": 34
        }
      },
      "source": [
        "max([2, 3, 7, 18, 6])"
      ],
      "execution_count": 4,
      "outputs": [
        {
          "output_type": "execute_result",
          "data": {
            "text/plain": [
              "18"
            ]
          },
          "metadata": {
            "tags": []
          },
          "execution_count": 4
        }
      ]
    },
    {
      "cell_type": "code",
      "metadata": {
        "id": "meRj__3WwFjl",
        "outputId": "59c86a9c-130d-4104-f6ee-a3bc604495a3",
        "colab": {
          "base_uri": "https://localhost:8080/",
          "height": 35
        }
      },
      "source": [
        "max('ahmed')"
      ],
      "execution_count": 5,
      "outputs": [
        {
          "output_type": "execute_result",
          "data": {
            "application/vnd.google.colaboratory.intrinsic+json": {
              "type": "string"
            },
            "text/plain": [
              "'m'"
            ]
          },
          "metadata": {
            "tags": []
          },
          "execution_count": 5
        }
      ]
    },
    {
      "cell_type": "code",
      "metadata": {
        "id": "LEZR4_pVwYOE",
        "outputId": "afb740d5-404e-4c32-8b74-3876d2137053",
        "colab": {
          "base_uri": "https://localhost:8080/",
          "height": 35
        }
      },
      "source": [
        "min('Hello world')"
      ],
      "execution_count": 6,
      "outputs": [
        {
          "output_type": "execute_result",
          "data": {
            "application/vnd.google.colaboratory.intrinsic+json": {
              "type": "string"
            },
            "text/plain": [
              "' '"
            ]
          },
          "metadata": {
            "tags": []
          },
          "execution_count": 6
        }
      ]
    },
    {
      "cell_type": "code",
      "metadata": {
        "id": "lZRnigr7wgB2",
        "outputId": "06ffbdc7-aaf3-47d8-c29a-7392b27ae56b",
        "colab": {
          "base_uri": "https://localhost:8080/",
          "height": 35
        }
      },
      "source": [
        "max('Aa')"
      ],
      "execution_count": 7,
      "outputs": [
        {
          "output_type": "execute_result",
          "data": {
            "application/vnd.google.colaboratory.intrinsic+json": {
              "type": "string"
            },
            "text/plain": [
              "'a'"
            ]
          },
          "metadata": {
            "tags": []
          },
          "execution_count": 7
        }
      ]
    },
    {
      "cell_type": "code",
      "metadata": {
        "id": "inZtpMrpwx1u",
        "outputId": "2f6ade06-3c08-4d55-82f2-02b7abf3d39d",
        "colab": {
          "base_uri": "https://localhost:8080/",
          "height": 35
        }
      },
      "source": [
        "min('Aa')"
      ],
      "execution_count": 8,
      "outputs": [
        {
          "output_type": "execute_result",
          "data": {
            "application/vnd.google.colaboratory.intrinsic+json": {
              "type": "string"
            },
            "text/plain": [
              "'A'"
            ]
          },
          "metadata": {
            "tags": []
          },
          "execution_count": 8
        }
      ]
    },
    {
      "cell_type": "code",
      "metadata": {
        "id": "qBEY9IPcxmE-",
        "outputId": "76bc1417-8069-4070-ef51-c5001898c8ac",
        "colab": {
          "base_uri": "https://localhost:8080/",
          "height": 34
        }
      },
      "source": [
        "a = max(1, 3)\n",
        "b = min(-7, 3)\n",
        "print(a, b)"
      ],
      "execution_count": 11,
      "outputs": [
        {
          "output_type": "stream",
          "text": [
            "3 -7\n"
          ],
          "name": "stdout"
        }
      ]
    },
    {
      "cell_type": "markdown",
      "metadata": {
        "id": "OOMs_Xr0wkE7"
      },
      "source": [
        "# aphabatical order \n",
        "space, A-Z, a-z "
      ]
    },
    {
      "cell_type": "code",
      "metadata": {
        "id": "xWjUXZu-xJom",
        "outputId": "0a2288d8-cb8c-42b6-fec2-f7858f6dbfdf",
        "colab": {
          "base_uri": "https://localhost:8080/",
          "height": 70
        }
      },
      "source": [
        "print('hello')\n",
        "print()\n",
        "print('world')"
      ],
      "execution_count": 9,
      "outputs": [
        {
          "output_type": "stream",
          "text": [
            "hello\n",
            "\n",
            "world\n"
          ],
          "name": "stdout"
        }
      ]
    },
    {
      "cell_type": "code",
      "metadata": {
        "id": "QwVtUl0MxSSt",
        "outputId": "64607094-3369-4a68-9a95-636313d13ce6",
        "colab": {
          "base_uri": "https://localhost:8080/",
          "height": 34
        }
      },
      "source": [
        "x = 10 \n",
        "print('the value of x = ', x)"
      ],
      "execution_count": 10,
      "outputs": [
        {
          "output_type": "stream",
          "text": [
            "the value of x =  10\n"
          ],
          "name": "stdout"
        }
      ]
    },
    {
      "cell_type": "markdown",
      "metadata": {
        "id": "mZ0iaA11x_U3"
      },
      "source": [
        "# define our function (welcome function) "
      ]
    },
    {
      "cell_type": "code",
      "metadata": {
        "id": "DTfR86Isx-dt"
      },
      "source": [
        "def say_hello():\n",
        "  name = input('what is your name: ')\n",
        "  print('hello', name )"
      ],
      "execution_count": 14,
      "outputs": []
    },
    {
      "cell_type": "code",
      "metadata": {
        "id": "AS2wAsjgysRq",
        "outputId": "66f14dc2-a4c9-49a7-c3db-3fd7fd209c87",
        "colab": {
          "base_uri": "https://localhost:8080/",
          "height": 87
        }
      },
      "source": [
        "print('welcome to my program')\n",
        "say_hello()\n",
        "print('good bye')"
      ],
      "execution_count": 15,
      "outputs": [
        {
          "output_type": "stream",
          "text": [
            "welcome to my program\n",
            "what is your name: Ahmed\n",
            "hello Ahmed\n",
            "good by\n"
          ],
          "name": "stdout"
        }
      ]
    },
    {
      "cell_type": "code",
      "metadata": {
        "id": "jurFGrvVy7J_",
        "outputId": "98a960e1-9627-42fd-ee47-e826cc8cdee2",
        "colab": {
          "base_uri": "https://localhost:8080/",
          "height": 122
        }
      },
      "source": [
        "print('welcome to my program')\n",
        "say_hello()\n",
        "say_hello()\n",
        "print('good bye')"
      ],
      "execution_count": 16,
      "outputs": [
        {
          "output_type": "stream",
          "text": [
            "welcome to my program\n",
            "what is your name: Ahmed\n",
            "hello Ahmed\n",
            "what is your name: Ahi\n",
            "hello Ahi\n",
            "good bye\n"
          ],
          "name": "stdout"
        }
      ]
    },
    {
      "cell_type": "markdown",
      "metadata": {
        "id": "hjxS8-WezKF-"
      },
      "source": [
        "# Good and Bad pracices in function writing "
      ]
    },
    {
      "cell_type": "code",
      "metadata": {
        "id": "-blnhZz9zRnE",
        "outputId": "92257b01-e054-4ea9-a47b-1e577ba0633d",
        "colab": {
          "base_uri": "https://localhost:8080/",
          "height": 70
        }
      },
      "source": [
        "# bad practice : I/O inside the fucntion \n",
        "def say_hello():\n",
        "  name = input('what is your name: ')\n",
        "  print('hello', name )\n",
        "  print(name, ', python is cool, right?')\n",
        "\n",
        "\n",
        "say_hello()"
      ],
      "execution_count": 17,
      "outputs": [
        {
          "output_type": "stream",
          "text": [
            "what is your name: Ahmed\n",
            "hello Ahmed\n",
            "Ahmed python is cool, right?\n"
          ],
          "name": "stdout"
        }
      ]
    },
    {
      "cell_type": "code",
      "metadata": {
        "id": "YbEge4NW0Ebg",
        "outputId": "26829bf9-1cfe-445f-abb0-5b870c8d1de5",
        "colab": {
          "base_uri": "https://localhost:8080/",
          "height": 87
        }
      },
      "source": [
        "x = say_hello()\n",
        "print(x)"
      ],
      "execution_count": 18,
      "outputs": [
        {
          "output_type": "stream",
          "text": [
            "what is your name: ahmed\n",
            "hello ahmed\n",
            "ahmed python is cool, right?\n",
            "None\n"
          ],
          "name": "stdout"
        }
      ]
    },
    {
      "cell_type": "code",
      "metadata": {
        "id": "gI4RgOLZz1jL",
        "outputId": "8d687d37-141d-4a4b-a562-b2a605728ec5",
        "colab": {
          "base_uri": "https://localhost:8080/",
          "height": 52
        }
      },
      "source": [
        "# good practice : NO I/O inside the fucntion \n",
        "def say_hello(name):\n",
        "  return 'hello ' + name  \n",
        "\n",
        "\n",
        "msg1 = say_hello('Ahmed')\n",
        "print(msg1)\n",
        "\n",
        "msg2 = say_hello(name='Hasan')\n",
        "print(msg2)"
      ],
      "execution_count": 19,
      "outputs": [
        {
          "output_type": "stream",
          "text": [
            "hello Ahmed\n",
            "hello Hasan\n"
          ],
          "name": "stdout"
        }
      ]
    },
    {
      "cell_type": "code",
      "metadata": {
        "id": "-dAwrvfj00Ec",
        "outputId": "6298f89d-6fcc-4ced-bf49-93801afb999f",
        "colab": {
          "base_uri": "https://localhost:8080/",
          "height": 52
        }
      },
      "source": [
        "name1 = input('enter your name: ')\n",
        "msg3 = say_hello(name1)\n",
        "print(msg3)"
      ],
      "execution_count": 21,
      "outputs": [
        {
          "output_type": "stream",
          "text": [
            "enter your name: Naseem\n",
            "hello Naseem\n"
          ],
          "name": "stdout"
        }
      ]
    },
    {
      "cell_type": "code",
      "metadata": {
        "id": "-o7kFIJP1L47",
        "outputId": "a63eaaac-416f-4d6a-cd6b-e4637342271e",
        "colab": {
          "base_uri": "https://localhost:8080/",
          "height": 52
        }
      },
      "source": [
        "def add(a, b):\n",
        "  r = a + b\n",
        "  return r \n",
        "\n",
        "\n",
        "def sub(a, b):\n",
        "  return a - b \n",
        "\n",
        " # way 1 in calling \n",
        "print(add(3, 4))\n",
        "print(sub(7, 2))"
      ],
      "execution_count": 25,
      "outputs": [
        {
          "output_type": "stream",
          "text": [
            "7\n",
            "5\n"
          ],
          "name": "stdout"
        }
      ]
    },
    {
      "cell_type": "code",
      "metadata": {
        "id": "88EG25GG2DUz",
        "outputId": "07772ae2-9ba0-4385-b77c-a9cdefbb18c2",
        "colab": {
          "base_uri": "https://localhost:8080/",
          "height": 34
        }
      },
      "source": [
        "# way2 \n",
        "x=2;y=3\n",
        "z = add(x, y)\n",
        "print(z+1)"
      ],
      "execution_count": 26,
      "outputs": [
        {
          "output_type": "stream",
          "text": [
            "6\n"
          ],
          "name": "stdout"
        }
      ]
    },
    {
      "cell_type": "code",
      "metadata": {
        "id": "FdgqiEmK2X8w",
        "outputId": "bc814efe-efe0-40de-af33-001a7d7e0ecf",
        "colab": {
          "base_uri": "https://localhost:8080/",
          "height": 70
        }
      },
      "source": [
        "# way2 \n",
        "x=int(input('enter x: '))\n",
        "y=int(input('enter y: '))\n",
        "z = add(x, y)\n",
        "print(z+1)"
      ],
      "execution_count": 27,
      "outputs": [
        {
          "output_type": "stream",
          "text": [
            "enter x: 3\n",
            "enter y: 1\n",
            "5\n"
          ],
          "name": "stdout"
        }
      ]
    },
    {
      "cell_type": "markdown",
      "metadata": {
        "id": "VzDZ0Ayp2q3e"
      },
      "source": [
        "# Greeting function by language "
      ]
    },
    {
      "cell_type": "code",
      "metadata": {
        "id": "pbCb36bM2qBg",
        "outputId": "2ab4d70c-ae5f-48be-d3f3-dc08cef695a5",
        "colab": {
          "base_uri": "https://localhost:8080/",
          "height": 105
        }
      },
      "source": [
        "def greeting(lang):\n",
        "  if lang == 'en':\n",
        "    return 'hello'\n",
        "  elif lang == 'fr':\n",
        "    return 'bonjour'\n",
        "  elif lang == 'es':\n",
        "    return 'Hola'\n",
        "  elif lang == 'tr':\n",
        "    return 'Merheba'\n",
        "  elif lang == 'ar':\n",
        "    return 'مرحبا'\n",
        "  elif lang == 'it':\n",
        "    return 'Cioa'\n",
        "  else: \n",
        "    return 'hello'\n",
        "\n",
        "print(greeting('en'))\n",
        "print(greeting('it'))\n",
        "print(greeting('ar'))\n",
        "print(greeting('tr'))\n",
        "print(greeting('de'))"
      ],
      "execution_count": 31,
      "outputs": [
        {
          "output_type": "stream",
          "text": [
            "hello\n",
            "Cioa\n",
            "مرحبا\n",
            "Merheba\n",
            "hello\n"
          ],
          "name": "stdout"
        }
      ]
    }
  ]
}