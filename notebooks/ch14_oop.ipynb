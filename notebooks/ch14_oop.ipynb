{
 "cells": [
  {
   "cell_type": "markdown",
   "metadata": {},
   "source": [
    "# chapter 14: OOP "
   ]
  },
  {
   "cell_type": "markdown",
   "metadata": {},
   "source": [
    "# Syntax "
   ]
  },
  {
   "cell_type": "code",
   "execution_count": 1,
   "metadata": {},
   "outputs": [],
   "source": [
    "class Abc:\n",
    "    pass "
   ]
  },
  {
   "cell_type": "code",
   "execution_count": 2,
   "metadata": {},
   "outputs": [],
   "source": [
    "a1 = Abc()"
   ]
  },
  {
   "cell_type": "code",
   "execution_count": 4,
   "metadata": {},
   "outputs": [
    {
     "data": {
      "text/plain": [
       "<__main__.Abc at 0x29a081bb0d0>"
      ]
     },
     "execution_count": 4,
     "metadata": {},
     "output_type": "execute_result"
    }
   ],
   "source": [
    "a1"
   ]
  },
  {
   "cell_type": "code",
   "execution_count": 5,
   "metadata": {},
   "outputs": [
    {
     "data": {
      "text/plain": [
       "__main__.Abc"
      ]
     },
     "execution_count": 5,
     "metadata": {},
     "output_type": "execute_result"
    }
   ],
   "source": [
    "type(a1)"
   ]
  },
  {
   "cell_type": "code",
   "execution_count": 6,
   "metadata": {},
   "outputs": [
    {
     "data": {
      "text/plain": [
       "<__main__.Abc at 0x29a081d7160>"
      ]
     },
     "execution_count": 6,
     "metadata": {},
     "output_type": "execute_result"
    }
   ],
   "source": [
    "a2 = Abc()\n",
    "a2"
   ]
  },
  {
   "cell_type": "code",
   "execution_count": 8,
   "metadata": {},
   "outputs": [],
   "source": [
    "class Rectangle:\n",
    "    # data \n",
    "    x = 10\n",
    "    y = 20\n",
    "    # code \"methods\"\n",
    "    def get_area(self):\n",
    "        return self.x * self.y "
   ]
  },
  {
   "cell_type": "code",
   "execution_count": 9,
   "metadata": {},
   "outputs": [
    {
     "data": {
      "text/plain": [
       "<__main__.Rectangle at 0x29a081d7a90>"
      ]
     },
     "execution_count": 9,
     "metadata": {},
     "output_type": "execute_result"
    }
   ],
   "source": [
    "r1 = Rectangle()\n",
    "r1"
   ]
  },
  {
   "cell_type": "code",
   "execution_count": 10,
   "metadata": {},
   "outputs": [
    {
     "data": {
      "text/plain": [
       "200"
      ]
     },
     "execution_count": 10,
     "metadata": {},
     "output_type": "execute_result"
    }
   ],
   "source": [
    "r1.get_area()"
   ]
  },
  {
   "cell_type": "code",
   "execution_count": 12,
   "metadata": {},
   "outputs": [
    {
     "name": "stdout",
     "output_type": "stream",
     "text": [
      "['__class__', '__delattr__', '__dict__', '__dir__', '__doc__', '__eq__', '__format__', '__ge__', '__getattribute__', '__gt__', '__hash__', '__init__', '__init_subclass__', '__le__', '__lt__', '__module__', '__ne__', '__new__', '__reduce__', '__reduce_ex__', '__repr__', '__setattr__', '__sizeof__', '__str__', '__subclasshook__', '__weakref__', 'get_area', 'x', 'y']\n"
     ]
    }
   ],
   "source": [
    "print(dir(r1))"
   ]
  },
  {
   "cell_type": "code",
   "execution_count": 13,
   "metadata": {},
   "outputs": [],
   "source": [
    "class Rectangle:\n",
    "    def __init__(self, hight=1, width=2): # constructor: main function is to initilize attributes values \n",
    "        self.hight = hight \n",
    "        self.width = width       "
   ]
  },
  {
   "cell_type": "code",
   "execution_count": 14,
   "metadata": {},
   "outputs": [
    {
     "data": {
      "text/plain": [
       "<__main__.Rectangle at 0x29a081d7820>"
      ]
     },
     "execution_count": 14,
     "metadata": {},
     "output_type": "execute_result"
    }
   ],
   "source": [
    "r1 = Rectangle()\n",
    "r1"
   ]
  },
  {
   "cell_type": "code",
   "execution_count": 15,
   "metadata": {},
   "outputs": [
    {
     "data": {
      "text/plain": [
       "<__main__.Rectangle at 0x29a0920e5e0>"
      ]
     },
     "execution_count": 15,
     "metadata": {},
     "output_type": "execute_result"
    }
   ],
   "source": [
    "r2 = Rectangle(3, 8)\n",
    "r2"
   ]
  },
  {
   "cell_type": "code",
   "execution_count": 16,
   "metadata": {},
   "outputs": [
    {
     "name": "stdout",
     "output_type": "stream",
     "text": [
      "hello\n"
     ]
    }
   ],
   "source": [
    "s = 'hello'\n",
    "print(s)"
   ]
  },
  {
   "cell_type": "code",
   "execution_count": 17,
   "metadata": {},
   "outputs": [
    {
     "name": "stdout",
     "output_type": "stream",
     "text": [
      "<__main__.Rectangle object at 0x0000029A0920E5E0>\n"
     ]
    }
   ],
   "source": [
    "print(r2)"
   ]
  },
  {
   "cell_type": "code",
   "execution_count": 18,
   "metadata": {},
   "outputs": [
    {
     "name": "stdout",
     "output_type": "stream",
     "text": [
      "['__class__', '__delattr__', '__dict__', '__dir__', '__doc__', '__eq__', '__format__', '__ge__', '__getattribute__', '__gt__', '__hash__', '__init__', '__init_subclass__', '__le__', '__lt__', '__module__', '__ne__', '__new__', '__reduce__', '__reduce_ex__', '__repr__', '__setattr__', '__sizeof__', '__str__', '__subclasshook__', '__weakref__', 'hight', 'width']\n"
     ]
    }
   ],
   "source": [
    "print(dir(r2))"
   ]
  },
  {
   "cell_type": "code",
   "execution_count": 19,
   "metadata": {},
   "outputs": [],
   "source": [
    "class Rectangle:\n",
    "    # constructor: main function is to initilize attributes values \n",
    "    def __init__(self, hight=1, width=2): \n",
    "        self.hight = hight \n",
    "        self.width = width  \n",
    "    # string representation of the object \n",
    "    def __str__(self):\n",
    "        return 'hight:{}\\twidth:{}'.format(self.hight, self.width)"
   ]
  },
  {
   "cell_type": "code",
   "execution_count": 20,
   "metadata": {},
   "outputs": [],
   "source": [
    "r1 = Rectangle()\n",
    "r2 = Rectangle(3, 9)\n",
    "r3 = Rectangle(hight=4, width=10)\n",
    "r4 = Rectangle(width=12, hight=3)\n",
    "r5 = Rectangle(width=12)"
   ]
  },
  {
   "cell_type": "code",
   "execution_count": 21,
   "metadata": {},
   "outputs": [
    {
     "name": "stdout",
     "output_type": "stream",
     "text": [
      "hight:1\twidth:2\n"
     ]
    }
   ],
   "source": [
    "print(r1)"
   ]
  },
  {
   "cell_type": "code",
   "execution_count": 22,
   "metadata": {},
   "outputs": [
    {
     "name": "stdout",
     "output_type": "stream",
     "text": [
      "hight:3\twidth:9\n"
     ]
    }
   ],
   "source": [
    "print(r2)"
   ]
  },
  {
   "cell_type": "code",
   "execution_count": 23,
   "metadata": {},
   "outputs": [
    {
     "name": "stdout",
     "output_type": "stream",
     "text": [
      "hight:4\twidth:10\n"
     ]
    }
   ],
   "source": [
    "print(r3)"
   ]
  },
  {
   "cell_type": "code",
   "execution_count": 24,
   "metadata": {},
   "outputs": [
    {
     "name": "stdout",
     "output_type": "stream",
     "text": [
      "hight:3\twidth:12\n"
     ]
    }
   ],
   "source": [
    "print(r4)"
   ]
  },
  {
   "cell_type": "code",
   "execution_count": 25,
   "metadata": {},
   "outputs": [
    {
     "name": "stdout",
     "output_type": "stream",
     "text": [
      "hight:1\twidth:12\n"
     ]
    }
   ],
   "source": [
    "print(r5)"
   ]
  },
  {
   "cell_type": "code",
   "execution_count": 26,
   "metadata": {},
   "outputs": [],
   "source": [
    "class Rectangle:\n",
    "    # constructor: main function is to initilize attributes values \n",
    "    def __init__(self, hight=1, width=2): \n",
    "        self.hight = hight \n",
    "        self.width = width  \n",
    "    # string representation of the object \n",
    "    def __str__(self):\n",
    "        return 'hight:{}\\twidth:{}'.format(self.hight, self.width)\n",
    "    def get_area(self):\n",
    "        return self.hight * self.width \n",
    "    def get_perimeter(self):\n",
    "        return (self.hight + self.width ) * 2"
   ]
  },
  {
   "cell_type": "code",
   "execution_count": 28,
   "metadata": {},
   "outputs": [
    {
     "name": "stdout",
     "output_type": "stream",
     "text": [
      "hight:5\twidth:17\n",
      "area: 85\n",
      "perimeter: 44\n"
     ]
    }
   ],
   "source": [
    "r6 = Rectangle(hight=5, width=17)\n",
    "print(r6)\n",
    "print('area:', r6.get_area())\n",
    "print('perimeter:', r6.get_perimeter())"
   ]
  },
  {
   "cell_type": "code",
   "execution_count": 29,
   "metadata": {},
   "outputs": [
    {
     "name": "stdout",
     "output_type": "stream",
     "text": [
      "5\n"
     ]
    }
   ],
   "source": [
    "print(r6.hight)"
   ]
  },
  {
   "cell_type": "code",
   "execution_count": 30,
   "metadata": {},
   "outputs": [],
   "source": [
    "r6.hight = 7 "
   ]
  },
  {
   "cell_type": "code",
   "execution_count": 31,
   "metadata": {},
   "outputs": [
    {
     "name": "stdout",
     "output_type": "stream",
     "text": [
      "hight:7\twidth:17\n",
      "area: 119\n",
      "perimeter: 48\n"
     ]
    }
   ],
   "source": [
    "print(r6)\n",
    "print('area:', r6.get_area())\n",
    "print('perimeter:', r6.get_perimeter())"
   ]
  },
  {
   "cell_type": "markdown",
   "metadata": {},
   "source": [
    "# Public, protected, private members \n",
    "\n",
    "protected and private attributes are just to validate date"
   ]
  },
  {
   "cell_type": "code",
   "execution_count": 32,
   "metadata": {},
   "outputs": [],
   "source": [
    "class Rectangle:\n",
    "    def __init__(self, hight=1, width=2):\n",
    "        self.hight = hight # public attribute \n",
    "        self._width = width # protected attribute \n",
    "        self.__color = 'white' # private attribute \n",
    "    def set_color(self, color):\n",
    "        self.__color = color\n",
    "    def set_width(self, width):\n",
    "        if width > 0: # validate data \n",
    "            self._width = width\n",
    "    def get_with(self):\n",
    "        return self._width\n",
    "    def __str__(self):\n",
    "        return 'hight:{} width:{} color:{}'.format(self.hight, \n",
    "                                          self._width, \n",
    "                                         self.__color)"
   ]
  },
  {
   "cell_type": "markdown",
   "metadata": {},
   "source": [
    "# inheritance \n",
    "\n",
    "reuse objects instead of rewrite "
   ]
  },
  {
   "cell_type": "code",
   "execution_count": 35,
   "metadata": {},
   "outputs": [],
   "source": [
    "class Rectangle:\n",
    "    # constructor: main function is to initilize attributes values \n",
    "    def __init__(self, hight=1, width=2): \n",
    "        self.hight = hight \n",
    "        self.width = width  \n",
    "    # string representation of the object \n",
    "    def __str__(self):\n",
    "        return 'hight:{}\\twidth:{}'.format(self.hight, self.width)\n",
    "    def get_area(self):\n",
    "        return self.hight * self.width \n",
    "    def get_perimeter(self):\n",
    "        return (self.hight + self.width ) * 2"
   ]
  },
  {
   "cell_type": "markdown",
   "metadata": {},
   "source": [
    "# square  class \n",
    "\n",
    "square is a rectangle: rectangle is the super class and the square is the subclass "
   ]
  },
  {
   "cell_type": "code",
   "execution_count": 38,
   "metadata": {},
   "outputs": [],
   "source": [
    "class Square(Rectangle): # Square is subclass, Rectangle is super class \n",
    "    def __init__(self, x=1):\n",
    "       super().__init__(x, x)     "
   ]
  },
  {
   "cell_type": "code",
   "execution_count": 39,
   "metadata": {},
   "outputs": [
    {
     "name": "stdout",
     "output_type": "stream",
     "text": [
      "hight:3\twidth:3\n",
      "area: 9\n",
      "perimeter: 12\n"
     ]
    }
   ],
   "source": [
    "s1 = Square(x=3)\n",
    "print(s1)\n",
    "print('area:', s1.get_area())\n",
    "print('perimeter:', s1.get_perimeter())"
   ]
  },
  {
   "cell_type": "markdown",
   "metadata": {},
   "source": [
    "# Person / Student Example \n",
    "\n",
    "* person: super class \n",
    "* student: subclass \n"
   ]
  },
  {
   "cell_type": "code",
   "execution_count": 45,
   "metadata": {},
   "outputs": [],
   "source": [
    "class Person:\n",
    "    def __init__(self, id=None, name=None, dob=None, gender=None, address=None, tel=None):\n",
    "        self.id = id\n",
    "        self.name = name\n",
    "        self.dob = dob \n",
    "        self.gender = gender\n",
    "        self.address = address \n",
    "        self.tel = tel \n",
    "    def __str__(self):\n",
    "        return '''\n",
    "        Person Info\\n\n",
    "        ID: {}\\tName: {}\\n\n",
    "        Date of Birth: {}\\tGender: {}\\n\n",
    "        Address: {}\\tTelephone: {}\n",
    "        '''.format(self.id, self.name, self.dob, self.gender, self.address, self.tel)\n",
    "    \n",
    "    def walk(self):\n",
    "        print('Hello I am {}, and I am walking :) '.format(self.name))\n"
   ]
  },
  {
   "cell_type": "code",
   "execution_count": 46,
   "metadata": {},
   "outputs": [
    {
     "name": "stdout",
     "output_type": "stream",
     "text": [
      "\n",
      "        Person Info\n",
      "\n",
      "        ID: 123\tName: Ahmed\n",
      "\n",
      "        Date of Birth: 01-01-2021\tGender: M\n",
      "\n",
      "        Address: Palestine, Hebron\tTelephone: 0591234567\n",
      "        \n"
     ]
    }
   ],
   "source": [
    "p1 = Person(id=123, name='Ahmed', dob='01-01-2021', gender='M', address='Palestine, Hebron',\n",
    "           tel='0591234567')\n",
    "print(p1)"
   ]
  },
  {
   "cell_type": "code",
   "execution_count": 47,
   "metadata": {},
   "outputs": [
    {
     "name": "stdout",
     "output_type": "stream",
     "text": [
      "Hello I am Ahmed, and I am walking :) \n"
     ]
    }
   ],
   "source": [
    "p1.walk()"
   ]
  },
  {
   "cell_type": "code",
   "execution_count": 52,
   "metadata": {},
   "outputs": [],
   "source": [
    "class Student(Person):\n",
    "    def __init__(self, std_id=None, dept=None, id=None, \n",
    "                 name=None, dob=None, gender=None, address=None, tel=None):\n",
    "        self.std_id = std_id\n",
    "        self.dept = dept \n",
    "        super().__init__(id, name, dob, gender, address, tel)\n",
    "    def __str__(self):\n",
    "        return 'Student ID: {}\\t Department: {}\\n{}'.format(self.std_id, self.dept,\n",
    "                                                           super().__str__())\n",
    "    def study(self):\n",
    "        print('I am studing and writing python code :)')\n",
    "    "
   ]
  },
  {
   "cell_type": "code",
   "execution_count": 53,
   "metadata": {},
   "outputs": [
    {
     "name": "stdout",
     "output_type": "stream",
     "text": [
      "Student ID: 20201122\t Department: AI\n",
      "\n",
      "        Person Info\n",
      "\n",
      "        ID: 123\tName: Ahmed\n",
      "\n",
      "        Date of Birth: 01-01-2021\tGender: M\n",
      "\n",
      "        Address: Palestine, Hebron\tTelephone: 0591234567\n",
      "        \n",
      "Hello I am Ahmed, and I am walking :) \n",
      "I am studing and writing python code :)\n"
     ]
    }
   ],
   "source": [
    "s1 = Student(std_id='20201122', dept='AI', id=123, name='Ahmed', dob='01-01-2021', \n",
    "             gender='M', address='Palestine, Hebron', tel='0591234567')\n",
    "print(s1)\n",
    "s1.walk()\n",
    "s1.study()"
   ]
  }
 ],
 "metadata": {
  "kernelspec": {
   "display_name": "Python 3",
   "language": "python",
   "name": "python3"
  },
  "language_info": {
   "codemirror_mode": {
    "name": "ipython",
    "version": 3
   },
   "file_extension": ".py",
   "mimetype": "text/x-python",
   "name": "python",
   "nbconvert_exporter": "python",
   "pygments_lexer": "ipython3",
   "version": "3.9.0rc1"
  }
 },
 "nbformat": 4,
 "nbformat_minor": 4
}
