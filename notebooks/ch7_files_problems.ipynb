{
 "cells": [
  {
   "cell_type": "markdown",
   "metadata": {},
   "source": [
    "# write a program to count messages sent from stephen.marquard@uct.ac.za"
   ]
  },
  {
   "cell_type": "code",
   "execution_count": 3,
   "metadata": {},
   "outputs": [
    {
     "data": {
      "text/plain": [
       "29"
      ]
     },
     "execution_count": 3,
     "metadata": {},
     "output_type": "execute_result"
    }
   ],
   "source": [
    "count = 0 \n",
    "handle = open('mbox.txt')\n",
    "for line in handle:\n",
    "    if line.strip().startswith('From: '):\n",
    "        if 'stephen.marquard@uct.ac.za' in line:\n",
    "            count += 1 \n",
    "handle.close()\n",
    "count"
   ]
  },
  {
   "cell_type": "markdown",
   "metadata": {},
   "source": [
    "# write a program to count messages sent to stephen.marquard@uct.ac.za"
   ]
  },
  {
   "cell_type": "code",
   "execution_count": 4,
   "metadata": {},
   "outputs": [
    {
     "data": {
      "text/plain": [
       "0"
      ]
     },
     "execution_count": 4,
     "metadata": {},
     "output_type": "execute_result"
    }
   ],
   "source": [
    "count = 0 \n",
    "handle = open('mbox.txt')\n",
    "for line in handle:\n",
    "    if line.strip().startswith('To: '):\n",
    "        if 'stephen.marquard@uct.ac.za' in line:\n",
    "            count += 1 \n",
    "handle.close()\n",
    "count"
   ]
  },
  {
   "cell_type": "markdown",
   "metadata": {},
   "source": [
    "# write a program to count messages sent from uct.ac.za domain"
   ]
  },
  {
   "cell_type": "code",
   "execution_count": 6,
   "metadata": {},
   "outputs": [
    {
     "data": {
      "text/plain": [
       "96"
      ]
     },
     "execution_count": 6,
     "metadata": {},
     "output_type": "execute_result"
    }
   ],
   "source": [
    "count = 0 \n",
    "handle = open('mbox.txt')\n",
    "for line in handle:\n",
    "    if line.strip().startswith('From: '):\n",
    "        if '@uct.ac.za' in line:\n",
    "            count += 1 \n",
    "handle.close()\n",
    "count"
   ]
  },
  {
   "cell_type": "markdown",
   "metadata": {},
   "source": [
    "# write a program to get the subjects of messages sent from stephen.marquard@uct.ac.za"
   ]
  },
  {
   "cell_type": "code",
   "execution_count": 8,
   "metadata": {},
   "outputs": [
    {
     "name": "stdout",
     "output_type": "stream",
     "text": [
      "Subject: [sakai] svn commit: r39772 - content/branches/sakai_2-5-x/content-impl/impl/src/java/org/sakaiproject/content/impl\n",
      "Subject: [sakai] svn commit: r39750 - event/branches/SAK-6216/event-util/util/src/java/org/sakaiproject/util\n",
      "Subject: [sakai] svn commit: r39620 - citations/branches/sakai_2-5-x/citations-tool/tool/src/webapp/vm/citation\n",
      "Subject: [sakai] svn commit: r39619 - search/branches/sakai_2-5-x/search-impl/impl/src/java/org/sakaiproject/search/journal/impl\n",
      "Subject: [sakai] svn commit: r39592 - util/branches/sakai_2-5-x/util-util/util/src/java/org/sakaiproject/util\n",
      "Subject: [sakai] svn commit: r39527 - in event/trunk/event-api/api/src/java/org/sakaiproject/event: api cover\n",
      "Subject: [sakai] svn commit: r39524 - portal/branches/sakai_2-5-x/portal-impl/impl/src/java/org/sakaiproject/portal/charon/handlers\n",
      "Subject: [sakai] svn commit: r39523 - portal/trunk/portal-impl/impl/src/java/org/sakaiproject/portal/charon/handlers\n",
      "Subject: [sakai] svn commit: r39496 - user/branches/sakai_2-5-x/user-tool-prefs/tool/src/java/org/sakaiproject/user/tool\n",
      "Subject: [sakai] svn commit: r39482 - in content/branches/sakai_2-5-x/content-tool/tool/src/webapp: dojo/dojo-release-0.9.0/dijit/themes/sakadojo dojo/dojo-release-0.9.0/dijit/themes/sakadojo/images vm/content\n",
      "Subject: [sakai] svn commit: r39481 - in search/branches/sakai_2-5-x/search-impl: impl/src/java/org/sakaiproject/search/indexer/impl impl/src/java/org/sakaiproject/search/journal/api impl/src/java/org/sakaiproject/search/journal/impl impl/src/test/org/sakaiproject/search/index/soaktest impl/src/test/org/sakaiproject/search/indexer/impl/test impl/src/test/org/sakaiproject/search/mock pack/src/webapp/WEB-INF\n",
      "Subject: [sakai] svn commit: r39480 - in search/branches/sakai_2-5-x/search-impl: impl/src/java/org/sakaiproject/search/indexer/impl impl/src/test/org/sakaiproject/search/index/soaktest impl/src/test/org/sakaiproject/search/indexer/impl/test impl/src/test/org/sakaiproject/search/mock pack/src/webapp/WEB-INF\n",
      "Subject: [sakai] svn commit: r39479 - in util/branches/sakai_2-5-x: util-impl/impl/src/java/org/sakaiproject/thread_local/impl util-util/util/src/java/org/sakaiproject/util\n",
      "Subject: [sakai] svn commit: r39478 - chat/branches/sakai_2-5-x/chat-api/api/src/java/org/sakaiproject/chat2/model\n",
      "Subject: [sakai] svn commit: r39422 - event/branches/SAK-6216/event-impl/impl/src/java/org/sakaiproject/event/impl\n",
      "Subject: [sakai] svn commit: r39418 - message/branches/sakai_2-5-x/message-impl/impl/src/java/org/sakaiproject/message/impl\n",
      "Subject: [sakai] svn commit: r39417 - calendar/branches/sakai_2-5-x/calendar-impl/impl/src/java/org/sakaiproject/calendar/impl\n",
      "Subject: [sakai] svn commit: r39416 - assignment/branches/sakai_2-5-x/assignment-impl/impl/src/java/org/sakaiproject/assignment/impl\n",
      "Subject: [sakai] svn commit: r39415 - in memory/branches/sakai_2-5-x/memory-impl: . impl impl/src impl/src/java/org/sakaiproject/memory/impl impl/src/test impl/src/test/org impl/src/test/org/sakai impl/src/test/org/sakai/memory impl/src/test/org/sakai/memory/impl impl/src/test/org/sakai/memory/impl/test\n",
      "Subject: [sakai] svn commit: r39414 - alias/branches/sakai_2-5-x/alias-impl/impl/src/java/org/sakaiproject/alias/impl\n",
      "Subject: [sakai] svn commit: r39413 - event/branches/SAK-6216/event-impl/impl/src/java/org/sakaiproject/event/impl\n",
      "Subject: [sakai] svn commit: r39412 - event/branches/SAK-6216/event-api/api/src/java/org/sakaiproject/event/api\n",
      "Subject: [sakai] svn commit: r39411 - event/branches/SAK-6216/event-impl/impl/src/java/org/sakaiproject/event/impl\n",
      "Subject: [sakai] svn commit: r39410 - event/branches/sakai_2-5-x/event-impl/impl/src/java/org/sakaiproject/event/impl\n",
      "Subject: [sakai] svn commit: r39409 - event/branches\n",
      "Subject: [sakai] svn commit: r39408 - event/branches\n",
      "Subject: [sakai] svn commit: r39407 - event/branches/SAK-6216\n",
      "Subject: [sakai] svn commit: r39334 - presence/branches/sakai_2-5-x/presence-impl/impl/src/java/org/sakaiproject/presence/impl\n",
      "Subject: [sakai] svn commit: r39333 - presence/trunk/presence-impl/impl/src/java/org/sakaiproject/presence/impl\n"
     ]
    }
   ],
   "source": [
    "lines = open('mbox.txt').read().split('\\n')\n",
    "for i in range(len(lines)):\n",
    "    if lines[i].startswith('From: '):\n",
    "        if 'stephen.marquard@uct.ac.za' in lines[i]:\n",
    "            print(lines[i+1])"
   ]
  },
  {
   "cell_type": "markdown",
   "metadata": {},
   "source": [
    "# write a program to get the username of all messages sent from @uct.ac.za domain"
   ]
  },
  {
   "cell_type": "code",
   "execution_count": 20,
   "metadata": {},
   "outputs": [
    {
     "name": "stdout",
     "output_type": "stream",
     "text": [
      "stephen.marquard\n",
      "david.horwitz\n",
      "\n"
     ]
    }
   ],
   "source": [
    "result = ''\n",
    "for i in range(len(lines)):\n",
    "    if lines[i].startswith('From: '):\n",
    "        if '@uct.ac.za' in lines[i]:\n",
    "            target_line = lines[i]\n",
    "            target_line = target_line.replace('From: ', '')\n",
    "            username = target_line.split('@')[0]\n",
    "            if username not in result:\n",
    "                result += username + '\\n'\n",
    "print(result)"
   ]
  },
  {
   "cell_type": "markdown",
   "metadata": {},
   "source": [
    "# write a program to let the user to enter the file name, then print the number of lines in that file "
   ]
  },
  {
   "cell_type": "code",
   "execution_count": 23,
   "metadata": {},
   "outputs": [
    {
     "name": "stdin",
     "output_type": "stream",
     "text": [
      "enter file name:  test1.txt\n"
     ]
    },
    {
     "name": "stdout",
     "output_type": "stream",
     "text": [
      "there is 6 lines in the file test1.txt\n"
     ]
    }
   ],
   "source": [
    "def read_file():\n",
    "    file_name = input('enter file name: ')\n",
    "    handle = open(file_name)\n",
    "    lines = handle.read().split('\\n')\n",
    "    print('there is {} lines in the file {}'.format(len(lines), file_name))\n",
    "read_file()"
   ]
  },
  {
   "cell_type": "code",
   "execution_count": 24,
   "metadata": {},
   "outputs": [
    {
     "name": "stdin",
     "output_type": "stream",
     "text": [
      "enter file name:  mbox-short.txt\n"
     ]
    },
    {
     "name": "stdout",
     "output_type": "stream",
     "text": [
      "there is 1911 lines in the file mbox-short.txt\n"
     ]
    }
   ],
   "source": [
    "read_file()"
   ]
  },
  {
   "cell_type": "code",
   "execution_count": 25,
   "metadata": {},
   "outputs": [
    {
     "name": "stdin",
     "output_type": "stream",
     "text": [
      "enter file name:  mbox.txt\n"
     ]
    },
    {
     "name": "stdout",
     "output_type": "stream",
     "text": [
      "there is 132046 lines in the file mbox.txt\n"
     ]
    }
   ],
   "source": [
    "read_file()"
   ]
  },
  {
   "cell_type": "code",
   "execution_count": 26,
   "metadata": {},
   "outputs": [
    {
     "name": "stdin",
     "output_type": "stream",
     "text": [
      "enter file name:  foo.txt\n"
     ]
    },
    {
     "ename": "FileNotFoundError",
     "evalue": "[Errno 2] No such file or directory: 'foo.txt'",
     "output_type": "error",
     "traceback": [
      "\u001b[1;31m---------------------------------------------------------------------------\u001b[0m",
      "\u001b[1;31mFileNotFoundError\u001b[0m                         Traceback (most recent call last)",
      "\u001b[1;32m<ipython-input-26-add35ef965ae>\u001b[0m in \u001b[0;36m<module>\u001b[1;34m\u001b[0m\n\u001b[1;32m----> 1\u001b[1;33m \u001b[0mread_file\u001b[0m\u001b[1;33m(\u001b[0m\u001b[1;33m)\u001b[0m\u001b[1;33m\u001b[0m\u001b[1;33m\u001b[0m\u001b[0m\n\u001b[0m",
      "\u001b[1;32m<ipython-input-23-e6c2186864b5>\u001b[0m in \u001b[0;36mread_file\u001b[1;34m()\u001b[0m\n\u001b[0;32m      1\u001b[0m \u001b[1;32mdef\u001b[0m \u001b[0mread_file\u001b[0m\u001b[1;33m(\u001b[0m\u001b[1;33m)\u001b[0m\u001b[1;33m:\u001b[0m\u001b[1;33m\u001b[0m\u001b[1;33m\u001b[0m\u001b[0m\n\u001b[0;32m      2\u001b[0m     \u001b[0mfile_name\u001b[0m \u001b[1;33m=\u001b[0m \u001b[0minput\u001b[0m\u001b[1;33m(\u001b[0m\u001b[1;34m'enter file name: '\u001b[0m\u001b[1;33m)\u001b[0m\u001b[1;33m\u001b[0m\u001b[1;33m\u001b[0m\u001b[0m\n\u001b[1;32m----> 3\u001b[1;33m     \u001b[0mhandle\u001b[0m \u001b[1;33m=\u001b[0m \u001b[0mopen\u001b[0m\u001b[1;33m(\u001b[0m\u001b[0mfile_name\u001b[0m\u001b[1;33m)\u001b[0m\u001b[1;33m\u001b[0m\u001b[1;33m\u001b[0m\u001b[0m\n\u001b[0m\u001b[0;32m      4\u001b[0m     \u001b[0mlines\u001b[0m \u001b[1;33m=\u001b[0m \u001b[0mhandle\u001b[0m\u001b[1;33m.\u001b[0m\u001b[0mread\u001b[0m\u001b[1;33m(\u001b[0m\u001b[1;33m)\u001b[0m\u001b[1;33m.\u001b[0m\u001b[0msplit\u001b[0m\u001b[1;33m(\u001b[0m\u001b[1;34m'\\n'\u001b[0m\u001b[1;33m)\u001b[0m\u001b[1;33m\u001b[0m\u001b[1;33m\u001b[0m\u001b[0m\n\u001b[0;32m      5\u001b[0m     \u001b[0mprint\u001b[0m\u001b[1;33m(\u001b[0m\u001b[1;34m'there is {} lines in the file {}'\u001b[0m\u001b[1;33m.\u001b[0m\u001b[0mformat\u001b[0m\u001b[1;33m(\u001b[0m\u001b[0mlen\u001b[0m\u001b[1;33m(\u001b[0m\u001b[0mlines\u001b[0m\u001b[1;33m)\u001b[0m\u001b[1;33m,\u001b[0m \u001b[0mfile_name\u001b[0m\u001b[1;33m)\u001b[0m\u001b[1;33m)\u001b[0m\u001b[1;33m\u001b[0m\u001b[1;33m\u001b[0m\u001b[0m\n",
      "\u001b[1;31mFileNotFoundError\u001b[0m: [Errno 2] No such file or directory: 'foo.txt'"
     ]
    }
   ],
   "source": [
    "read_file()"
   ]
  },
  {
   "cell_type": "code",
   "execution_count": 28,
   "metadata": {},
   "outputs": [],
   "source": [
    "def read_file_exception():\n",
    "    try:\n",
    "        file_name = input('enter file name: ')\n",
    "        handle = open(file_name)\n",
    "        lines = handle.read().split('\\n')\n",
    "        print('there is {} lines in the file {}'.format(len(lines), file_name))\n",
    "    except FileNotFoundError:\n",
    "        print('file not found')"
   ]
  },
  {
   "cell_type": "code",
   "execution_count": 29,
   "metadata": {},
   "outputs": [
    {
     "name": "stdin",
     "output_type": "stream",
     "text": [
      "enter file name:  fooo.txt\n"
     ]
    },
    {
     "name": "stdout",
     "output_type": "stream",
     "text": [
      "file not found\n"
     ]
    }
   ],
   "source": [
    "read_file_exception()"
   ]
  },
  {
   "cell_type": "code",
   "execution_count": 30,
   "metadata": {},
   "outputs": [
    {
     "name": "stdin",
     "output_type": "stream",
     "text": [
      "enter file name:  bar.txt\n"
     ]
    },
    {
     "name": "stdout",
     "output_type": "stream",
     "text": [
      "file not found\n"
     ]
    }
   ],
   "source": [
    "read_file_exception()"
   ]
  },
  {
   "cell_type": "code",
   "execution_count": 31,
   "metadata": {},
   "outputs": [
    {
     "name": "stdin",
     "output_type": "stream",
     "text": [
      "enter file name:  test1.txt\n"
     ]
    },
    {
     "name": "stdout",
     "output_type": "stream",
     "text": [
      "there is 6 lines in the file test1.txt\n"
     ]
    }
   ],
   "source": [
    "read_file_exception()"
   ]
  }
 ],
 "metadata": {
  "kernelspec": {
   "display_name": "Python 3",
   "language": "python",
   "name": "python3"
  },
  "language_info": {
   "codemirror_mode": {
    "name": "ipython",
    "version": 3
   },
   "file_extension": ".py",
   "mimetype": "text/x-python",
   "name": "python",
   "nbconvert_exporter": "python",
   "pygments_lexer": "ipython3",
   "version": "3.9.0rc1"
  }
 },
 "nbformat": 4,
 "nbformat_minor": 4
}
