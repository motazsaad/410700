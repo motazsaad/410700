{
 "cells": [
  {
   "cell_type": "markdown",
   "metadata": {
    "id": "RsV70a0f7nPH"
   },
   "source": [
    "# chapter 5 loops and iterations "
   ]
  },
  {
   "cell_type": "markdown",
   "metadata": {
    "id": "eB_numXb7rV1"
   },
   "source": [
    "# write a program to say hello 5 times "
   ]
  },
  {
   "cell_type": "code",
   "execution_count": 1,
   "metadata": {
    "colab": {
     "base_uri": "https://localhost:8080/",
     "height": 122
    },
    "id": "JdMGqd5c7ie3",
    "outputId": "8d8713a2-9122-4fdb-ac30-602545ab9c60"
   },
   "outputs": [
    {
     "name": "stdout",
     "output_type": "stream",
     "text": [
      "hello\n",
      "hello\n",
      "hello\n",
      "hello\n",
      "hello\n",
      "done!\n"
     ]
    }
   ],
   "source": [
    "n = 5\n",
    "while n > 0:\n",
    "  print('hello')\n",
    "  n = n - 1 \n",
    "print('done!')"
   ]
  },
  {
   "cell_type": "code",
   "execution_count": 2,
   "metadata": {
    "colab": {
     "base_uri": "https://localhost:8080/",
     "height": 122
    },
    "id": "UBImPJ7b8Ab7",
    "outputId": "76c1fa17-954d-4ffd-bb01-14b7342536f0"
   },
   "outputs": [
    {
     "name": "stdout",
     "output_type": "stream",
     "text": [
      "hello\n",
      "hello\n",
      "hello\n",
      "hello\n",
      "hello\n",
      "done!\n"
     ]
    }
   ],
   "source": [
    "n = 0\n",
    "while n < 5:\n",
    "  print('hello')\n",
    "  n = n + 1 \n",
    "print('done!')"
   ]
  },
  {
   "cell_type": "markdown",
   "metadata": {
    "id": "BE9LpRlu8E9G"
   },
   "source": [
    "* write a program to count-up 1-5 \n",
    "* write a program to count-down 5-0"
   ]
  },
  {
   "cell_type": "code",
   "execution_count": 6,
   "metadata": {
    "colab": {
     "base_uri": "https://localhost:8080/",
     "height": 122
    },
    "id": "v_mtmasy8Ooo",
    "outputId": "1b24d8a3-7192-44a5-f8ab-93232ebb040c"
   },
   "outputs": [
    {
     "name": "stdout",
     "output_type": "stream",
     "text": [
      "1\n",
      "2\n",
      "3\n",
      "4\n",
      "5\n",
      "done\n"
     ]
    }
   ],
   "source": [
    "n = 1\n",
    "while n <= 5 :\n",
    "  print(n)\n",
    "  n +=1 # n = n -1 \n",
    "print('done')"
   ]
  },
  {
   "cell_type": "code",
   "execution_count": 7,
   "metadata": {
    "colab": {
     "base_uri": "https://localhost:8080/",
     "height": 140
    },
    "id": "UpKOchAp8rnk",
    "outputId": "987a216a-24bd-46f4-ebcd-1899150f0861"
   },
   "outputs": [
    {
     "name": "stdout",
     "output_type": "stream",
     "text": [
      "5\n",
      "4\n",
      "3\n",
      "2\n",
      "1\n",
      "0\n",
      "done\n"
     ]
    }
   ],
   "source": [
    "n = 5\n",
    "while n >= 0:\n",
    "  print(n)\n",
    "  n -=1\n",
    "print('done')"
   ]
  },
  {
   "cell_type": "markdown",
   "metadata": {
    "id": "A6fyyOKW9JQ7"
   },
   "source": [
    "# write a program to say hello 5 times each second "
   ]
  },
  {
   "cell_type": "code",
   "execution_count": 12,
   "metadata": {
    "colab": {
     "base_uri": "https://localhost:8080/",
     "height": 122
    },
    "id": "0zmx47Az9IQK",
    "outputId": "c3db6d14-39ad-45c7-a8b2-b6199ae6d7c1"
   },
   "outputs": [
    {
     "name": "stdout",
     "output_type": "stream",
     "text": [
      "hello\n",
      "hello\n",
      "hello\n",
      "hello\n",
      "hello\n",
      "done\n"
     ]
    }
   ],
   "source": [
    "from time import sleep\n",
    "n = 0 \n",
    "while n < 5:\n",
    "  print('hello')\n",
    "  n +=1 \n",
    "  sleep(2)\n",
    "print('done')"
   ]
  },
  {
   "cell_type": "code",
   "execution_count": 14,
   "metadata": {
    "colab": {
     "base_uri": "https://localhost:8080/",
     "height": 122
    },
    "id": "_eUh_Hez-P3s",
    "outputId": "d6639608-02fd-4045-8bd0-943db6544f4c"
   },
   "outputs": [
    {
     "name": "stdout",
     "output_type": "stream",
     "text": [
      "> hello\n",
      "hello\n",
      "> hi\n",
      "hi\n",
      "> exit\n",
      "done\n"
     ]
    }
   ],
   "source": [
    "while True:\n",
    "  line = input('> ')\n",
    "  if line == 'exit':\n",
    "    break # go to line 6 \n",
    "  print(line)\n",
    "print('done')"
   ]
  },
  {
   "cell_type": "code",
   "execution_count": 16,
   "metadata": {
    "colab": {
     "base_uri": "https://localhost:8080/",
     "height": 158
    },
    "id": "WyeQ3q2F_U76",
    "outputId": "99eb58cb-b93c-411f-f4e0-05914ceddafb"
   },
   "outputs": [
    {
     "name": "stdout",
     "output_type": "stream",
     "text": [
      "> hello\n",
      "hello\n",
      "> hola \n",
      "hola \n",
      "> # bonjour\n",
      "> #exit\n",
      "> exit\n",
      "done\n"
     ]
    }
   ],
   "source": [
    "while True:\n",
    "  line = input('> ')\n",
    "  if line[0] == \"#\":\n",
    "    continue # go to line 1 \n",
    "  if line == 'exit':\n",
    "    break # go to line 8 \n",
    "  print(line)\n",
    "print('done')"
   ]
  },
  {
   "cell_type": "code",
   "execution_count": 17,
   "metadata": {
    "colab": {
     "base_uri": "https://localhost:8080/",
     "height": 140
    },
    "id": "nT8HBBsL_9cq",
    "outputId": "91a38ea5-e74f-4bb9-886a-a59fb6024fa7"
   },
   "outputs": [
    {
     "name": "stdout",
     "output_type": "stream",
     "text": [
      "> hello#\n",
      "hello#\n",
      "> #hi\n",
      "> bonjour\n",
      "bonjour\n",
      "> exit\n",
      "done\n"
     ]
    }
   ],
   "source": [
    "# indefinite loop \n",
    "while True:\n",
    "  line = input('> ')\n",
    "  if line[0] == \"#\":\n",
    "    continue # go to line 1 \n",
    "  if line == 'exit':\n",
    "    break # go to line 8 \n",
    "  print(line)\n",
    "print('done')"
   ]
  },
  {
   "cell_type": "code",
   "execution_count": 18,
   "metadata": {
    "colab": {
     "base_uri": "https://localhost:8080/",
     "height": 70
    },
    "id": "x67o0sadAvTQ",
    "outputId": "2b512729-2c8a-4723-da3a-c80a9a2cf17f"
   },
   "outputs": [
    {
     "name": "stdout",
     "output_type": "stream",
     "text": [
      "Ahmed\n",
      "Adham\n",
      "Ali\n"
     ]
    }
   ],
   "source": [
    "names = ['Ahmed',  'Adham', 'George', 'Ali', 'Majdi', 'Khitam']\n",
    "# write code to find names that start with A \n",
    "for name in names:\n",
    "  if name[0] != 'A':\n",
    "    continue \n",
    "  print(name)"
   ]
  },
  {
   "cell_type": "code",
   "execution_count": 19,
   "metadata": {
    "colab": {
     "base_uri": "https://localhost:8080/",
     "height": 70
    },
    "id": "pDS91FM-BSWP",
    "outputId": "918aa40d-2986-405c-ccb6-fa9a6d37fba7"
   },
   "outputs": [
    {
     "name": "stdout",
     "output_type": "stream",
     "text": [
      "George\n",
      "Majdi\n",
      "Khitam\n"
     ]
    }
   ],
   "source": [
    "names = ['Ahmed',  'Adham', 'George', 'Ali', 'Majdi', 'Khitam']\n",
    "# write code to find names that do not start with A \n",
    "for name in names:\n",
    "  if name[0] == 'A':\n",
    "    continue \n",
    "  print(name)"
   ]
  },
  {
   "cell_type": "code",
   "execution_count": 20,
   "metadata": {
    "colab": {
     "base_uri": "https://localhost:8080/",
     "height": 87
    },
    "id": "pyeGqEwKBnoP",
    "outputId": "6ecc6f0e-0a07-4645-a525-8e07f8468bfc"
   },
   "outputs": [
    {
     "name": "stdout",
     "output_type": "stream",
     "text": [
      "2\n",
      "5\n",
      "1\n",
      "8\n"
     ]
    }
   ],
   "source": [
    "# loop using iteration variable \n",
    "numbers = [2, 5, 1, 8]\n",
    "for n in numbers:\n",
    "  print(n)\n"
   ]
  },
  {
   "cell_type": "code",
   "execution_count": 21,
   "metadata": {
    "colab": {
     "base_uri": "https://localhost:8080/",
     "height": 34
    },
    "id": "11cIe-x9B0rx",
    "outputId": "bbc8b0b6-2a76-4937-c04f-01629e06de6c"
   },
   "outputs": [
    {
     "name": "stdout",
     "output_type": "stream",
     "text": [
      "16\n"
     ]
    }
   ],
   "source": [
    "# write a program to sum a list \n",
    "numbers = [2, 5, 1, 8]\n",
    "total = 0 \n",
    "for n in numbers:\n",
    "  total = total + n \n",
    "print(total)"
   ]
  },
  {
   "cell_type": "code",
   "execution_count": 22,
   "metadata": {
    "colab": {
     "base_uri": "https://localhost:8080/",
     "height": 34
    },
    "id": "ZrU7gumrCr4H",
    "outputId": "f4946e10-44c3-4706-f586-72b94cb4e437"
   },
   "outputs": [
    {
     "data": {
      "text/plain": [
       "2"
      ]
     },
     "execution_count": 22,
     "metadata": {
      "tags": []
     },
     "output_type": "execute_result"
    }
   ],
   "source": [
    "numbers[0]"
   ]
  },
  {
   "cell_type": "code",
   "execution_count": 23,
   "metadata": {
    "colab": {
     "base_uri": "https://localhost:8080/",
     "height": 34
    },
    "id": "rMdfvdHQCus1",
    "outputId": "ea89893f-f2e5-4eee-d273-2f311ebb6e28"
   },
   "outputs": [
    {
     "data": {
      "text/plain": [
       "8"
      ]
     },
     "execution_count": 23,
     "metadata": {
      "tags": []
     },
     "output_type": "execute_result"
    }
   ],
   "source": [
    "numbers[3]"
   ]
  },
  {
   "cell_type": "code",
   "execution_count": 24,
   "metadata": {
    "colab": {
     "base_uri": "https://localhost:8080/",
     "height": 34
    },
    "id": "UAqIN7iwCyL3",
    "outputId": "57991477-f1be-486a-d952-47d394a8a4b2"
   },
   "outputs": [
    {
     "data": {
      "text/plain": [
       "range(0, 4)"
      ]
     },
     "execution_count": 24,
     "metadata": {
      "tags": []
     },
     "output_type": "execute_result"
    }
   ],
   "source": [
    "range(4)"
   ]
  },
  {
   "cell_type": "code",
   "execution_count": 25,
   "metadata": {
    "colab": {
     "base_uri": "https://localhost:8080/",
     "height": 34
    },
    "id": "Jvva2ApEC1Sa",
    "outputId": "451f2381-8f81-4867-ddf6-3be69ed1c4fb"
   },
   "outputs": [
    {
     "data": {
      "text/plain": [
       "[0, 1, 2, 3]"
      ]
     },
     "execution_count": 25,
     "metadata": {
      "tags": []
     },
     "output_type": "execute_result"
    }
   ],
   "source": [
    "list(range(4))"
   ]
  },
  {
   "cell_type": "code",
   "execution_count": 26,
   "metadata": {
    "colab": {
     "base_uri": "https://localhost:8080/",
     "height": 87
    },
    "id": "CmWz9QoYCDmB",
    "outputId": "466f68e0-1db6-458b-80f6-32314db826fd"
   },
   "outputs": [
    {
     "name": "stdout",
     "output_type": "stream",
     "text": [
      "2\n",
      "5\n",
      "1\n",
      "8\n"
     ]
    }
   ],
   "source": [
    "# loop using index \n",
    "for i in range(4):\n",
    "  print(numbers[i])"
   ]
  },
  {
   "cell_type": "code",
   "execution_count": 27,
   "metadata": {
    "colab": {
     "base_uri": "https://localhost:8080/",
     "height": 87
    },
    "id": "r7ikAqJkDFYe",
    "outputId": "09583cbd-236e-4142-ba4c-e0f1440c7a0d"
   },
   "outputs": [
    {
     "name": "stdout",
     "output_type": "stream",
     "text": [
      "2\n",
      "5\n",
      "1\n",
      "8\n"
     ]
    }
   ],
   "source": [
    "# loop using index \n",
    "for i in range(len(numbers)):\n",
    "  print(numbers[i])"
   ]
  }
 ],
 "metadata": {
  "colab": {
   "collapsed_sections": [],
   "name": "ch5_loops_iterations.ipynb",
   "provenance": []
  },
  "kernelspec": {
   "display_name": "Python 3",
   "language": "python",
   "name": "python3"
  },
  "language_info": {
   "codemirror_mode": {
    "name": "ipython",
    "version": 3
   },
   "file_extension": ".py",
   "mimetype": "text/x-python",
   "name": "python",
   "nbconvert_exporter": "python",
   "pygments_lexer": "ipython3",
   "version": "3.9.0rc1"
  }
 },
 "nbformat": 4,
 "nbformat_minor": 4
}
