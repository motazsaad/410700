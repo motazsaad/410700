{
  "nbformat": 4,
  "nbformat_minor": 0,
  "metadata": {
    "colab": {
      "name": "UK_messages.ipynb",
      "provenance": []
    },
    "kernelspec": {
      "name": "python3",
      "display_name": "Python 3"
    }
  },
  "cells": [
    {
      "cell_type": "code",
      "metadata": {
        "id": "kVWl-LFXAP-o",
        "colab": {
          "base_uri": "https://localhost:8080/"
        },
        "outputId": "03ca1d3c-9a8f-4d1b-9814-4ff16b7473ce"
      },
      "source": [
        "! wget https://www.py4e.com/code/mbox.txt "
      ],
      "execution_count": null,
      "outputs": [
        {
          "output_type": "stream",
          "text": [
            "--2020-11-17 16:20:02--  https://www.py4e.com/code/mbox.txt\n",
            "Resolving www.py4e.com (www.py4e.com)... 104.28.13.91, 104.28.12.91, 172.67.133.177, ...\n",
            "Connecting to www.py4e.com (www.py4e.com)|104.28.13.91|:443... connected.\n",
            "HTTP request sent, awaiting response... 200 OK\n",
            "Length: unspecified [text/plain]\n",
            "Saving to: ‘mbox.txt’\n",
            "\n",
            "mbox.txt                [  <=>               ]   6.38M  25.1MB/s    in 0.3s    \n",
            "\n",
            "2020-11-17 16:20:03 (25.1 MB/s) - ‘mbox.txt’ saved [6687002]\n",
            "\n"
          ],
          "name": "stdout"
        }
      ]
    },
    {
      "cell_type": "code",
      "metadata": {
        "id": "Hl2UNA4rAaWw",
        "colab": {
          "base_uri": "https://localhost:8080/"
        },
        "outputId": "b786bf7a-0a3a-422d-cf02-0a76a0726943"
      },
      "source": [
        "from_uk_count = 0 \n",
        "to_uk_count = 0 \n",
        "infile = open('mbox.txt')\n",
        "for line in infile:\n",
        "  if line.startswith('From: ') and line.strip().endswith('.uk'):\n",
        "    from_uk_count += 1 \n",
        "  if line.startswith('To: ') and line.strip().endswith('.uk'):\n",
        "    to_uk_count += 1 \n",
        "print('emails from UK =', from_uk_count)\n",
        "print('emails to UK =', to_uk_count)\n"
      ],
      "execution_count": null,
      "outputs": [
        {
          "output_type": "stream",
          "text": [
            "emails from UK = 171\n",
            "emails to UK = 0\n"
          ],
          "name": "stdout"
        }
      ]
    }
  ]
}