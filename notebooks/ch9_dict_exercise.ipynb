{
 "cells": [
  {
   "cell_type": "markdown",
   "metadata": {},
   "source": [
    "# write a program to simulate the supermarket casheir "
   ]
  },
  {
   "cell_type": "code",
   "execution_count": 3,
   "metadata": {},
   "outputs": [],
   "source": [
    "# items = {element: price}\n",
    "items = {'milk': 12,\n",
    "        'yagourt': 22,\n",
    "        'cheese': 12,\n",
    "        'bred': 4,\n",
    "        'cheken': 14,\n",
    "        'fish': 40,\n",
    "        'tissues': 15,\n",
    "        'soup': 10}"
   ]
  },
  {
   "cell_type": "code",
   "execution_count": 6,
   "metadata": {},
   "outputs": [
    {
     "name": "stdin",
     "output_type": "stream",
     "text": [
      "enter item:  milk\n",
      "enter amount 4\n",
      "enter item:  bred\n",
      "enter amount 4\n",
      "enter item:  fish\n",
      "enter amount 2\n",
      "enter item:  cheken\n",
      "enter amount 10\n",
      "enter item:  yagourt\n",
      "enter amount 4\n",
      "enter item:  tissue\n"
     ]
    },
    {
     "name": "stdout",
     "output_type": "stream",
     "text": [
      "not found\n"
     ]
    },
    {
     "name": "stdin",
     "output_type": "stream",
     "text": [
      "enter item:  tissues\n",
      "enter amount 1\n",
      "enter item:  done\n",
      "enter discount:  0.02\n"
     ]
    },
    {
     "name": "stdout",
     "output_type": "stream",
     "text": [
      "item\tprice\n",
      "------------\n",
      "milk \t 48\n",
      "bred \t 16\n",
      "fish \t 80\n",
      "cheken \t 140\n",
      "yagourt \t 88\n",
      "tissues \t 15\n",
      "total before discount: 387\n",
      "total after discount: 379.26\n"
     ]
    }
   ],
   "source": [
    "bill = {}\n",
    "while True:\n",
    "    item = input('enter item: ')\n",
    "    if item == 'done':\n",
    "        break \n",
    "    if item not in items:\n",
    "        print('not found')\n",
    "        continue \n",
    "    amount = int(input('enter amount'))\n",
    "    bill[item] = amount * items[item]\n",
    "discount = float(input('enter discount: '))\n",
    "print('item\\tprice')\n",
    "print('------------')\n",
    "for k, v in bill.items():\n",
    "    print(k, '\\t', v)\n",
    "print('total before discount:', sum(bill.values()))\n",
    "print('total after discount:', sum(bill.values()) - sum(bill.values()) * discount)"
   ]
  },
  {
   "cell_type": "code",
   "execution_count": null,
   "metadata": {},
   "outputs": [],
   "source": []
  }
 ],
 "metadata": {
  "kernelspec": {
   "display_name": "Python 3",
   "language": "python",
   "name": "python3"
  },
  "language_info": {
   "codemirror_mode": {
    "name": "ipython",
    "version": 3
   },
   "file_extension": ".py",
   "mimetype": "text/x-python",
   "name": "python",
   "nbconvert_exporter": "python",
   "pygments_lexer": "ipython3",
   "version": "3.9.0rc1"
  }
 },
 "nbformat": 4,
 "nbformat_minor": 4
}
