{
 "cells": [
  {
   "cell_type": "markdown",
   "metadata": {},
   "source": [
    "# Writing to files \n",
    "\n",
    "## write mode "
   ]
  },
  {
   "cell_type": "code",
   "execution_count": 11,
   "metadata": {},
   "outputs": [],
   "source": [
    "handle = open('test2.txt', mode='w')\n",
    "# if the file does not exist, create a new file \n",
    "# if the file exists, then overwrite the file (delete the old file)"
   ]
  },
  {
   "cell_type": "code",
   "execution_count": 12,
   "metadata": {},
   "outputs": [],
   "source": [
    "handle.write('hello my name is Ahmed\\n')\n",
    "handle.write('Welcome to python\\n')\n",
    "handle.write('Goodbye')\n",
    "handle.close()"
   ]
  },
  {
   "cell_type": "markdown",
   "metadata": {},
   "source": [
    "# find the subject of all emails sent by louis@media.berkeley.edu and write them on a file "
   ]
  },
  {
   "cell_type": "code",
   "execution_count": 15,
   "metadata": {},
   "outputs": [],
   "source": [
    "outfile = open('louis_subjects.txt', mode='w')\n",
    "infile = open('mbox.txt', mode='r')\n",
    "lines = infile.read().split('\\n')\n",
    "infile.close()\n",
    "for i in range(len(lines)):\n",
    "    if lines[i].startswith('From: '):\n",
    "        if 'louis@media.berkeley.edu' in lines[i]:\n",
    "            outfile.write(lines[i+1] + '\\n')\n",
    "outfile.close()"
   ]
  },
  {
   "cell_type": "markdown",
   "metadata": {},
   "source": [
    "## append mode "
   ]
  },
  {
   "cell_type": "code",
   "execution_count": 17,
   "metadata": {},
   "outputs": [],
   "source": [
    "handle = open('test2.txt', mode='a')\n",
    "handle.write('\\nsee you later')\n",
    "handle.close()"
   ]
  },
  {
   "cell_type": "code",
   "execution_count": 18,
   "metadata": {},
   "outputs": [],
   "source": [
    "handle = open('test2.txt', mode='a')\n",
    "handle.write('\\nThanks')\n",
    "handle.close()"
   ]
  },
  {
   "cell_type": "code",
   "execution_count": 19,
   "metadata": {},
   "outputs": [],
   "source": [
    "handle = open('test3.txt', mode='a')\n",
    "handle.write('\\nHello again')\n",
    "handle.close()"
   ]
  }
 ],
 "metadata": {
  "kernelspec": {
   "display_name": "Python 3",
   "language": "python",
   "name": "python3"
  },
  "language_info": {
   "codemirror_mode": {
    "name": "ipython",
    "version": 3
   },
   "file_extension": ".py",
   "mimetype": "text/x-python",
   "name": "python",
   "nbconvert_exporter": "python",
   "pygments_lexer": "ipython3",
   "version": "3.9.0rc1"
  }
 },
 "nbformat": 4,
 "nbformat_minor": 4
}
